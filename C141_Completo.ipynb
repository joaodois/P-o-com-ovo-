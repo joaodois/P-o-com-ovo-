{
  "nbformat": 4,
  "nbformat_minor": 0,
  "metadata": {
    "colab": {
      "provenance": [],
      "include_colab_link": true
    },
    "kernelspec": {
      "name": "python3",
      "display_name": "Python 3"
    },
    "language_info": {
      "name": "python"
    }
  },
  "cells": [
    {
      "cell_type": "markdown",
      "metadata": {
        "id": "view-in-github",
        "colab_type": "text"
      },
      "source": [
        "<a href=\"https://colab.research.google.com/github/joaodois/P-o-com-ovo-/blob/main/C141_Completo.ipynb\" target=\"_parent\"><img src=\"https://colab.research.google.com/assets/colab-badge.svg\" alt=\"Open In Colab\"/></a>"
      ]
    },
    {
      "cell_type": "code",
      "source": [
        "!git clone https://github.com/ByjusBrazil/PRO_1-1_C141_DemographicFilteredMovie.git"
      ],
      "metadata": {
        "colab": {
          "base_uri": "https://localhost:8080/"
        },
        "id": "S2ZTKJExC5Xb",
        "outputId": "b9c346a4-138c-4c59-85c3-8cb001d24a5c"
      },
      "execution_count": null,
      "outputs": [
        {
          "output_type": "stream",
          "name": "stdout",
          "text": [
            "fatal: destination path 'PRO_1-1_C141_DemographicFilteredMovie' already exists and is not an empty directory.\n"
          ]
        }
      ]
    },
    {
      "cell_type": "markdown",
      "source": [
        "# Nova secção"
      ],
      "metadata": {
        "id": "NzYX3UaSPnkj"
      }
    },
    {
      "cell_type": "code",
      "source": [
        "#Crie um dataframe a partir destes arquivos.\n",
        "import pandas as pd\n",
        "import numpy as np\n",
        "movies_df = pd.read_csv('/content/tmdb_5000_movies.csv')\n",
        "movie_links_df = pd.read_csv('/content/PRO_1-1_C141_DemographicFilteredMovie/movie_links.csv')"
      ],
      "metadata": {
        "id": "PapveunsqkoN"
      },
      "execution_count": null,
      "outputs": []
    },
    {
      "cell_type": "code",
      "source": [
        "#imprimindo a forma de ambos dataframes\n",
        "print('firma movie_df', movies_df.shape)\n",
        "print('firma movie_links_df', movie_links_df.shape)"
      ],
      "metadata": {
        "colab": {
          "base_uri": "https://localhost:8080/"
        },
        "id": "RtgA2YXhqXr-",
        "outputId": "24749e7c-d077-49ba-d4fc-574bb06a5f32"
      },
      "execution_count": null,
      "outputs": [
        {
          "output_type": "stream",
          "name": "stdout",
          "text": [
            "firma movie_df (4803, 20)\n",
            "firma movie_links_df (4747, 2)\n"
          ]
        }
      ]
    },
    {
      "cell_type": "code",
      "source": [
        "movies_df.info()"
      ],
      "metadata": {
        "colab": {
          "base_uri": "https://localhost:8080/"
        },
        "id": "mjpVdqp4ruCa",
        "outputId": "c6d4733d-3311-4e42-d6a9-5b8441336db4"
      },
      "execution_count": null,
      "outputs": [
        {
          "output_type": "stream",
          "name": "stdout",
          "text": [
            "<class 'pandas.core.frame.DataFrame'>\n",
            "RangeIndex: 4803 entries, 0 to 4802\n",
            "Data columns (total 20 columns):\n",
            " #   Column                Non-Null Count  Dtype  \n",
            "---  ------                --------------  -----  \n",
            " 0   budget                4803 non-null   int64  \n",
            " 1   genres                4803 non-null   object \n",
            " 2   homepage              1712 non-null   object \n",
            " 3   id                    4803 non-null   int64  \n",
            " 4   keywords              4803 non-null   object \n",
            " 5   original_language     4803 non-null   object \n",
            " 6   original_title        4803 non-null   object \n",
            " 7   overview              4800 non-null   object \n",
            " 8   popularity            4803 non-null   float64\n",
            " 9   production_companies  4803 non-null   object \n",
            " 10  production_countries  4803 non-null   object \n",
            " 11  release_date          4802 non-null   object \n",
            " 12  revenue               4803 non-null   int64  \n",
            " 13  runtime               4801 non-null   float64\n",
            " 14  spoken_languages      4803 non-null   object \n",
            " 15  status                4803 non-null   object \n",
            " 16  tagline               3959 non-null   object \n",
            " 17  title                 4803 non-null   object \n",
            " 18  vote_average          4803 non-null   float64\n",
            " 19  vote_count            4803 non-null   int64  \n",
            "dtypes: float64(3), int64(4), object(13)\n",
            "memory usage: 750.6+ KB\n"
          ]
        }
      ]
    },
    {
      "cell_type": "code",
      "source": [
        "movie_links_df.info()"
      ],
      "metadata": {
        "colab": {
          "base_uri": "https://localhost:8080/"
        },
        "id": "tYtthOoMruXH",
        "outputId": "05da81b9-6e0b-4d35-9199-6394930f968c"
      },
      "execution_count": null,
      "outputs": [
        {
          "output_type": "stream",
          "name": "stdout",
          "text": [
            "<class 'pandas.core.frame.DataFrame'>\n",
            "RangeIndex: 4747 entries, 0 to 4746\n",
            "Data columns (total 2 columns):\n",
            " #   Column          Non-Null Count  Dtype \n",
            "---  ------          --------------  ----- \n",
            " 0   original_title  4747 non-null   object\n",
            " 1   poster_link     4747 non-null   object\n",
            "dtypes: object(2)\n",
            "memory usage: 74.3+ KB\n"
          ]
        }
      ]
    },
    {
      "cell_type": "code",
      "source": [
        "final_df = pd.merge(movies_df,movie_links_df,on='original_title')"
      ],
      "metadata": {
        "id": "wFQ-uBJFruZv"
      },
      "execution_count": null,
      "outputs": []
    },
    {
      "cell_type": "code",
      "source": [
        "final_df.info()"
      ],
      "metadata": {
        "colab": {
          "base_uri": "https://localhost:8080/"
        },
        "id": "YimgJOeErucn",
        "outputId": "0ebf71b2-bc16-4bb8-bff6-c4a6fcbf52e4"
      },
      "execution_count": null,
      "outputs": [
        {
          "output_type": "stream",
          "name": "stdout",
          "text": [
            "<class 'pandas.core.frame.DataFrame'>\n",
            "Int64Index: 4748 entries, 0 to 4747\n",
            "Data columns (total 21 columns):\n",
            " #   Column                Non-Null Count  Dtype  \n",
            "---  ------                --------------  -----  \n",
            " 0   budget                4748 non-null   int64  \n",
            " 1   genres                4748 non-null   object \n",
            " 2   homepage              1701 non-null   object \n",
            " 3   id                    4748 non-null   int64  \n",
            " 4   keywords              4748 non-null   object \n",
            " 5   original_language     4748 non-null   object \n",
            " 6   original_title        4748 non-null   object \n",
            " 7   overview              4745 non-null   object \n",
            " 8   popularity            4748 non-null   float64\n",
            " 9   production_companies  4748 non-null   object \n",
            " 10  production_countries  4748 non-null   object \n",
            " 11  release_date          4747 non-null   object \n",
            " 12  revenue               4748 non-null   int64  \n",
            " 13  runtime               4746 non-null   float64\n",
            " 14  spoken_languages      4748 non-null   object \n",
            " 15  status                4748 non-null   object \n",
            " 16  tagline               3929 non-null   object \n",
            " 17  title                 4748 non-null   object \n",
            " 18  vote_average          4748 non-null   float64\n",
            " 19  vote_count            4748 non-null   int64  \n",
            " 20  poster_link           4748 non-null   object \n",
            "dtypes: float64(3), int64(4), object(14)\n",
            "memory usage: 816.1+ KB\n"
          ]
        }
      ]
    },
    {
      "cell_type": "code",
      "source": [
        "# convertendo o dataframe para csv\n",
        "final_df.to_csv('final.csv')"
      ],
      "metadata": {
        "id": "MXwqme8F2vcw"
      },
      "execution_count": null,
      "outputs": []
    },
    {
      "cell_type": "code",
      "source": [
        "# baixando o arquivo\n",
        "from google.colab import files\n",
        "files.download('final.csv')"
      ],
      "metadata": {
        "id": "mxz7xLLrsX-b",
        "colab": {
          "base_uri": "https://localhost:8080/",
          "height": 17
        },
        "outputId": "de64ae3e-54fa-42d4-9fab-b1be7c7be1f5"
      },
      "execution_count": null,
      "outputs": [
        {
          "output_type": "display_data",
          "data": {
            "text/plain": [
              "<IPython.core.display.Javascript object>"
            ],
            "application/javascript": [
              "\n",
              "    async function download(id, filename, size) {\n",
              "      if (!google.colab.kernel.accessAllowed) {\n",
              "        return;\n",
              "      }\n",
              "      const div = document.createElement('div');\n",
              "      const label = document.createElement('label');\n",
              "      label.textContent = `Downloading \"${filename}\": `;\n",
              "      div.appendChild(label);\n",
              "      const progress = document.createElement('progress');\n",
              "      progress.max = size;\n",
              "      div.appendChild(progress);\n",
              "      document.body.appendChild(div);\n",
              "\n",
              "      const buffers = [];\n",
              "      let downloaded = 0;\n",
              "\n",
              "      const channel = await google.colab.kernel.comms.open(id);\n",
              "      // Send a message to notify the kernel that we're ready.\n",
              "      channel.send({})\n",
              "\n",
              "      for await (const message of channel.messages) {\n",
              "        // Send a message to notify the kernel that we're ready.\n",
              "        channel.send({})\n",
              "        if (message.buffers) {\n",
              "          for (const buffer of message.buffers) {\n",
              "            buffers.push(buffer);\n",
              "            downloaded += buffer.byteLength;\n",
              "            progress.value = downloaded;\n",
              "          }\n",
              "        }\n",
              "      }\n",
              "      const blob = new Blob(buffers, {type: 'application/binary'});\n",
              "      const a = document.createElement('a');\n",
              "      a.href = window.URL.createObjectURL(blob);\n",
              "      a.download = filename;\n",
              "      div.appendChild(a);\n",
              "      a.click();\n",
              "      div.remove();\n",
              "    }\n",
              "  "
            ]
          },
          "metadata": {}
        },
        {
          "output_type": "display_data",
          "data": {
            "text/plain": [
              "<IPython.core.display.Javascript object>"
            ],
            "application/javascript": [
              "download(\"download_cd9ed5e9-5acb-4535-9b82-9a417d400764\", \"final.csv\", 6213117)"
            ]
          },
          "metadata": {}
        }
      ]
    }
  ]
}